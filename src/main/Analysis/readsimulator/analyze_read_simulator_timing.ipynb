{
 "cells": [
  {
   "cell_type": "code",
   "id": "initial_id",
   "metadata": {
    "collapsed": true,
    "ExecuteTime": {
     "end_time": "2024-11-14T15:51:35.392491Z",
     "start_time": "2024-11-14T15:51:35.386764Z"
    }
   },
   "source": [
    "import os\n",
    "import pandas as pd\n",
    "import numpy as np\n",
    "import matplotlib.pyplot as plt\n",
    "import matplotlib.cm as cm\n",
    "import seaborn as sns\n",
    "import matplotlib.ticker as ticker\n",
    "from collections import Counter\n",
    "import scipy.stats as stats\n",
    "from scipy.stats import binom\n"
   ],
   "outputs": [],
   "execution_count": 2
  },
  {
   "metadata": {
    "ExecuteTime": {
     "end_time": "2024-11-14T15:52:38.639852Z",
     "start_time": "2024-11-14T15:52:38.637637Z"
    }
   },
   "cell_type": "code",
   "source": "timings_path = \"../../../../data/readsimulator/timings.tsv\"\n",
   "id": "bc052ea6ac2744cc",
   "outputs": [],
   "execution_count": 11
  },
  {
   "metadata": {
    "ExecuteTime": {
     "end_time": "2024-11-14T15:53:08.337388Z",
     "start_time": "2024-11-14T15:53:08.328569Z"
    }
   },
   "cell_type": "code",
   "source": "timings = pd.read_csv(timings_path, sep=\"\\t\", header=None)",
   "id": "9d8f0120f7667dcd",
   "outputs": [],
   "execution_count": 13
  },
  {
   "metadata": {
    "ExecuteTime": {
     "end_time": "2024-11-14T15:54:32.401027Z",
     "start_time": "2024-11-14T15:54:32.392961Z"
    }
   },
   "cell_type": "code",
   "source": [
    "# I have a dataframe where the first column is the type of timing, the second is the time. I ran something 10 times so each timing type is in there 10 tyimes. Combine it so that I have a dictionary of timeing type and then a list of the 10 times, Don't make it dependent on the number of times I ran it. Just go through the dataframe and add the times to the list of the timing type\n",
    "\n",
    "timing_dict = {}\n",
    "for index, row in timings.iterrows():\n",
    "    if row[0] in timing_dict:\n",
    "        timing_dict[row[0]].append(row[1])\n",
    "    else:\n",
    "        timing_dict[row[0]] = [row[1]]\n"
   ],
   "id": "d8df10ecf99603",
   "outputs": [],
   "execution_count": 14
  }
 ],
 "metadata": {
  "kernelspec": {
   "display_name": "Python 3",
   "language": "python",
   "name": "python3"
  },
  "language_info": {
   "codemirror_mode": {
    "name": "ipython",
    "version": 2
   },
   "file_extension": ".py",
   "mimetype": "text/x-python",
   "name": "python",
   "nbconvert_exporter": "python",
   "pygments_lexer": "ipython2",
   "version": "2.7.6"
  }
 },
 "nbformat": 4,
 "nbformat_minor": 5
}
